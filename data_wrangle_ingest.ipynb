{
 "cells": [
  {
   "cell_type": "markdown",
   "metadata": {},
   "source": [
    "This is a dataset of unidentified flying objects (UFO) reports collected by a US based ufology organisation. The data has been scraped from teh National UFO Research Center (NUFORC) and is quite raw.\n",
    "\n",
    "Source: https://data.world/timothyrenner/ufo-sightings  \n",
    "\n",
    "\n",
    "The data primary though not exclusively covers US sightings or events in a period from 1969-2019.\n",
    "\n",
    "Though the source data is in CSV format its not well formatted, some columns of interest are ambiguous, clean-up is required.\n",
    "\n",
    "The column named stats is a misnomer - its not a statistic type column despite the name\n",
    "\n",
    "City is maybe city or a combination of city and country  \n",
    "Correct alignment of location - the data is skewed towards a US audience \n",
    "Lat/Long is available in many of the records, though the level of accuracy is not clear  \n",
    "Duration column is free text not an useable duration, aim to create useable duration field for calculations and future analysis etc  \n",
    "\n",
    "Report link column could function as an index if required though the leading URL component will be stripped out.\n"
   ]
  },
  {
   "cell_type": "code",
   "execution_count": 13,
   "metadata": {},
   "outputs": [],
   "source": [
    "import re\n",
    "import string\n",
    "import numpy as np\n",
    "\n",
    "from pyspark.sql import SparkSession\n",
    "from pyspark.sql.functions import regexp_replace,col, lower\n",
    "\n",
    "from pyspark import SparkConf, SparkContext, SQLContext\n",
    "from pyspark.sql import functions as F\n",
    "\n",
    "from pyspark.sql.functions import udf\n",
    "from pyspark.sql.functions import expr\n",
    "\n",
    "sparkSession = SparkSession.builder.appName(\"ufo-data\").getOrCreate()"
   ]
  },
  {
   "cell_type": "code",
   "execution_count": 14,
   "metadata": {
    "scrolled": false
   },
   "outputs": [
    {
     "name": "stdout",
     "output_type": "stream",
     "text": [
      "root\n",
      " |-- summary: string (nullable = true)\n",
      " |-- city: string (nullable = true)\n",
      " |-- state: string (nullable = true)\n",
      " |-- date_time: string (nullable = true)\n",
      " |-- shape: string (nullable = true)\n",
      " |-- duration: string (nullable = true)\n",
      " |-- stats: string (nullable = true)\n",
      " |-- report_link: string (nullable = true)\n",
      " |-- text: string (nullable = true)\n",
      " |-- posted: string (nullable = true)\n",
      " |-- city_latitude: string (nullable = true)\n",
      " |-- city_longitude: string (nullable = true)\n",
      "\n",
      "+--------------------+--------------------+-----+-------------------+---------+--------------+--------------------+--------------------+--------------------+--------------------+--------------------+--------------------+\n",
      "|             summary|                city|state|          date_time|    shape|      duration|               stats|         report_link|                text|              posted|       city_latitude|      city_longitude|\n",
      "+--------------------+--------------------+-----+-------------------+---------+--------------+--------------------+--------------------+--------------------+--------------------+--------------------+--------------------+\n",
      "|My wife was drivi...|             Chester|   VA|2019-12-12T18:43:00|    light|     5 seconds|Occurred : 12/12/...|http://www.nuforc...|My wife was drivi...| 2019-12-22T00:00:00|  37.343151515151526|    -77.408581818182|\n",
      "|I think that I ma...|          Rocky Hill|   CT|2019-03-22T18:30:00|   circle|   3-5 seconds|Occurred : 3/22/2...|http://www.nuforc...|I think that I ma...| 2019-03-29T00:00:00|   41.66480000000001|   -72.6392999999999|\n",
      "|I woke up late in...|                null| null|               null|     null|          null|Occurred : 4/1/20...|http://www.nuforc...|I woke up late in...|                null|                null|                null|\n",
      "|I was driving tow...|              Ottawa|   ON|2019-04-17T02:00:00| teardrop|    10 seconds|Occurred : 4/17/2...|http://www.nuforc...|I was driving tow...| 2019-04-18T00:00:00|  45.381382500000214|  -75.70850071428617|\n",
      "|In Peoria Arizona...|              Peoria|   NY|2009-03-15T18:00:00|    cigar|     2 minutes|Occurred : 3/15/2...|http://www.nuforc...|In Peoria, Arizon...| 2019-04-18T00:00:00|                null|                null|\n",
      "|The object has fl...|          Kirbyville|   TX|2019-04-02T20:25:00|     disk|    15 minutes|Occurred : 4/2/20...|http://www.nuforc...|The object has fl...| 2019-04-08T00:00:00|             30.6772|            -94.0052|\n",
      "|Description is th...|              Tucson|   AZ|2019-05-01T11:00:00|  unknown|     5 minutes|Occurred : 5/1/20...|http://www.nuforc...|Description is th...| 2019-05-09T00:00:00|   32.25994075660238| -110.92754232690946|\n",
      "|Apr. 10th we witn...|         Gold Canyon|   AZ|2019-04-10T17:00:00|   circle|    10 minutes|Occurred : 4/10/2...|http://www.nuforc...|Apr. 10th we witn...| 2019-04-25T00:00:00|             33.3715| -111.43690000000001|\n",
      "|Ufos report in Ir...|              Dallas|   TX|1973-07-14T22:00:00|     oval|     6 minutes|Occurred : 7/14/1...|http://www.nuforc...|\"Ufos report in I...| if you want to s...| at on point they...| which ment they ...|\n",
      "|Group of lights f...|Caloocan City (Ph...| null|2019-06-06T19:00:00|    other|19:00 to 19:30|Occurred : 6/6/20...|http://www.nuforc...|group of lights f...| 2019-06-07T00:00:00|                null|                null|\n",
      "|Metal orb of wire...|          Brookville|   IN|2019-06-18T21:00:00|   sphere|        1 hour|Occurred : 6/18/2...|http://www.nuforc...|Metal orb of wire...| 2019-06-20T00:00:00|             39.4047|  -84.97360000000002|\n",
      "|2 tiny lights rec...|     Melbourne Beach|   FL|2019-06-12T22:00:00|  unknown|          Hour|Occurred : 6/12/2...|http://www.nuforc...|We think 2 UFOs.....| 2019-06-20T00:00:00|  27.966799999999992|            -80.5096|\n",
      "|I was driving and...|           Carrizozo|   NM|2019-06-11T22:00:00| changing|   Few minutes|Occurred : 6/11/2...|http://www.nuforc...|I was driving and...| 2019-06-20T00:00:00|             33.7849|           -105.8332|\n",
      "|I was in pool and...|                Waco|   TX|2018-06-15T01:00:00|   circle|      2 minute|Occurred : 6/15/2...|http://www.nuforc...|I was in pool and...| 2019-06-20T00:00:00|  31.573597507788193|  -97.13584859813108|\n",
      "|Bright Circle of ...|         Centerville|   IA|1999-08-15T02:30:00|   circle|        1 hour|Occurred : 8/15/1...|http://www.nuforc...|Bright Circle of ...| 2019-06-20T00:00:00|             40.7074|  -92.92129999999999|\n",
      "|Strange bright li...|          Gray Court|   SC|1975-07-17T00:00:00|    light|     5 minutes|Occurred : 7/17/1...|http://www.nuforc...|Strange bright li...| 2019-07-05T00:00:00|             34.5788|            -82.1141|\n",
      "|There were 4 ligh...|           Yuba City|   CA|2019-08-17T00:00:00|formation|    20 minutes|Occurred : 8/17/2...|http://www.nuforc...|There were 4 ligh...| 2019-08-23T00:00:00|   39.05981141552499| -121.66825616438334|\n",
      "|Star-like light t...|             Abilene|   TX|2019-08-14T01:00:00|    light|    30 seconds|Occurred : 8/14/2...|http://www.nuforc...|star-like light t...| 2019-08-23T00:00:00|  32.394351384615476|   -99.7900440000002|\n",
      "|There where 4 bri...|              Leyner|   CO|2019-08-09T20:22:00|    light|    20 minutes|Occurred : 8/9/20...|http://www.nuforc...|There where 4 bri...| 2019-08-23T00:00:00|                null|                null|\n",
      "|My wife and I wer...|            Catalina|   AZ|2019-08-09T20:30:00|    cigar|    40 seconds|Occurred : 8/9/20...|http://www.nuforc...|My wife and I wer...| 2019-08-23T00:00:00|                null|                null|\n",
      "+--------------------+--------------------+-----+-------------------+---------+--------------+--------------------+--------------------+--------------------+--------------------+--------------------+--------------------+\n",
      "only showing top 20 rows\n",
      "\n"
     ]
    }
   ],
   "source": [
    "sourcefile = '/datain/nuforc_reports.csv' \n",
    "#sourcefile = '/datain/subset.csv'\n",
    "\n",
    "uin = sparkSession.read.csv(sourcefile , header=True)\n",
    "\n",
    "#Review the schema\n",
    "uin.printSchema()\n",
    "\n",
    "# Quick look at the data\n",
    "uin.show()\n"
   ]
  },
  {
   "cell_type": "code",
   "execution_count": 15,
   "metadata": {},
   "outputs": [
    {
     "name": "stdout",
     "output_type": "stream",
     "text": [
      "root\n",
      " |-- summary: string (nullable = true)\n",
      " |-- city: string (nullable = true)\n",
      " |-- state: string (nullable = true)\n",
      " |-- date_time: string (nullable = true)\n",
      " |-- shape: string (nullable = true)\n",
      " |-- duration: string (nullable = true)\n",
      " |-- stats: string (nullable = true)\n",
      " |-- report_link: string (nullable = true)\n",
      " |-- text: string (nullable = true)\n",
      " |-- posted: string (nullable = true)\n",
      " |-- city_latitude: string (nullable = true)\n",
      " |-- city_longitude: string (nullable = true)\n",
      "\n",
      "root\n",
      " |-- city: string (nullable = true)\n",
      " |-- state: string (nullable = true)\n",
      " |-- date_time: string (nullable = true)\n",
      " |-- shape: string (nullable = true)\n",
      " |-- duration: string (nullable = true)\n",
      " |-- stats: string (nullable = true)\n",
      " |-- report_link: string (nullable = true)\n",
      " |-- text: string (nullable = true)\n",
      " |-- city_latitude: string (nullable = true)\n",
      " |-- city_longitude: string (nullable = true)\n",
      "\n",
      "+--------------------+-----+-------------------+---------+--------------+--------------------+-----------+--------------------+--------------------+--------------------+\n",
      "|                city|state|          date_time|    shape|      duration|               stats|report_link|                text|       city_latitude|      city_longitude|\n",
      "+--------------------+-----+-------------------+---------+--------------+--------------------+-----------+--------------------+--------------------+--------------------+\n",
      "|             Chester|   VA|2019-12-12T18:43:00|    light|     5 seconds|Occurred : 12/12/...|151/S151739|My wife was drivi...|  37.343151515151526|    -77.408581818182|\n",
      "|          Rocky Hill|   CT|2019-03-22T18:30:00|   circle|   3-5 seconds|Occurred : 3/22/2...|145/S145297|I think that I ma...|   41.66480000000001|   -72.6392999999999|\n",
      "|                null| null|               null|     null|          null|Occurred : 4/1/20...|145/S145556|I woke up late in...|                null|                null|\n",
      "|              Ottawa|   ON|2019-04-17T02:00:00| teardrop|    10 seconds|Occurred : 4/17/2...|145/S145697|I was driving tow...|  45.381382500000214|  -75.70850071428617|\n",
      "|              Peoria|   NY|2009-03-15T18:00:00|    cigar|     2 minutes|Occurred : 3/15/2...|145/S145723|In Peoria, Arizon...|                null|                null|\n",
      "|          Kirbyville|   TX|2019-04-02T20:25:00|     disk|    15 minutes|Occurred : 4/2/20...|145/S145476|The object has fl...|             30.6772|            -94.0052|\n",
      "|              Tucson|   AZ|2019-05-01T11:00:00|  unknown|     5 minutes|Occurred : 5/1/20...|145/S145947|Description is th...|   32.25994075660238| -110.92754232690946|\n",
      "|         Gold Canyon|   AZ|2019-04-10T17:00:00|   circle|    10 minutes|Occurred : 4/10/2...|145/S145766|Apr. 10th we witn...|             33.3715| -111.43690000000001|\n",
      "|              Dallas|   TX|1973-07-14T22:00:00|     oval|     6 minutes|Occurred : 7/14/1...|145/S145751|\"Ufos report in I...| at on point they...| which ment they ...|\n",
      "|Caloocan City (Ph...| null|2019-06-06T19:00:00|    other|19:00 to 19:30|Occurred : 6/6/20...|146/S146694|group of lights f...|                null|                null|\n",
      "|          Brookville|   IN|2019-06-18T21:00:00|   sphere|        1 hour|Occurred : 6/18/2...|146/S146900|Metal orb of wire...|             39.4047|  -84.97360000000002|\n",
      "|     Melbourne Beach|   FL|2019-06-12T22:00:00|  unknown|          Hour|Occurred : 6/12/2...|146/S146805|We think 2 UFOs.....|  27.966799999999992|            -80.5096|\n",
      "|           Carrizozo|   NM|2019-06-11T22:00:00| changing|   Few minutes|Occurred : 6/11/2...|146/S146759|I was driving and...|             33.7849|           -105.8332|\n",
      "|                Waco|   TX|2018-06-15T01:00:00|   circle|      2 minute|Occurred : 6/15/2...|146/S146740|I was in pool and...|  31.573597507788193|  -97.13584859813108|\n",
      "|         Centerville|   IA|1999-08-15T02:30:00|   circle|        1 hour|Occurred : 8/15/1...|146/S146702|Bright Circle of ...|             40.7074|  -92.92129999999999|\n",
      "|          Gray Court|   SC|1975-07-17T00:00:00|    light|     5 minutes|Occurred : 7/17/1...|147/S147117|Strange bright li...|             34.5788|            -82.1141|\n",
      "|           Yuba City|   CA|2019-08-17T00:00:00|formation|    20 minutes|Occurred : 8/17/2...|148/S148345|There were 4 ligh...|   39.05981141552499| -121.66825616438334|\n",
      "|             Abilene|   TX|2019-08-14T01:00:00|    light|    30 seconds|Occurred : 8/14/2...|148/S148373|star-like light t...|  32.394351384615476|   -99.7900440000002|\n",
      "|              Leyner|   CO|2019-08-09T20:22:00|    light|    20 minutes|Occurred : 8/9/20...|148/S148205|There where 4 bri...|                null|                null|\n",
      "|            Catalina|   AZ|2019-08-09T20:30:00|    cigar|    40 seconds|Occurred : 8/9/20...|148/S148290|My wife and I wer...|                null|                null|\n",
      "+--------------------+-----+-------------------+---------+--------------+--------------------+-----------+--------------------+--------------------+--------------------+\n",
      "only showing top 20 rows\n",
      "\n"
     ]
    }
   ],
   "source": [
    "# Review the schema prior to clean up\n",
    "uin.printSchema()\n",
    "uin = uin.drop(\"summary\")\n",
    "uin = uin.drop(\"posted\")\n",
    "\n",
    "# After\n",
    "uin.printSchema()\n",
    "\n",
    "# Remove long URL component from link\n",
    "uin = uin.withColumn('report_link', regexp_replace('report_link', 'http://www.nuforc.org/webreports/', ''))\n",
    "uin = uin.withColumn('report_link', regexp_replace('report_link', '.html', ''))\n",
    "\n",
    "uin.show()\n"
   ]
  },
  {
   "cell_type": "code",
   "execution_count": 16,
   "metadata": {},
   "outputs": [
    {
     "name": "stdout",
     "output_type": "stream",
     "text": [
      "+--------------------+-----+-------------------+---------+--------------+--------------------+-----------+--------------------+--------------------+--------------------+----------+\n",
      "|                city|state|          date_time|    shape|      duration|               stats|report_link|                text|       city_latitude|      city_longitude|      dur2|\n",
      "+--------------------+-----+-------------------+---------+--------------+--------------------+-----------+--------------------+--------------------+--------------------+----------+\n",
      "|             Chester|   VA|2019-12-12T18:43:00|    light|     5 seconds|Occurred : 12/12/...|151/S151739|My wife was drivi...|  37.343151515151526|    -77.408581818182|    5/sec/|\n",
      "|          Rocky Hill|   CT|2019-03-22T18:30:00|   circle|   3-5 seconds|Occurred : 3/22/2...|145/S145297|I think that I ma...|   41.66480000000001|   -72.6392999999999|    5/sec/|\n",
      "|                null| null|               null|     null|          null|Occurred : 4/1/20...|145/S145556|I woke up late in...|                null|                null|          |\n",
      "|              Ottawa|   ON|2019-04-17T02:00:00| teardrop|    10 seconds|Occurred : 4/17/2...|145/S145697|I was driving tow...|  45.381382500000214|  -75.70850071428617|   10/sec/|\n",
      "|              Peoria|   NY|2009-03-15T18:00:00|    cigar|     2 minutes|Occurred : 3/15/2...|145/S145723|In Peoria, Arizon...|                null|                null|    2/min/|\n",
      "|          Kirbyville|   TX|2019-04-02T20:25:00|     disk|    15 minutes|Occurred : 4/2/20...|145/S145476|The object has fl...|             30.6772|            -94.0052|   15/min/|\n",
      "|              Tucson|   AZ|2019-05-01T11:00:00|  unknown|     5 minutes|Occurred : 5/1/20...|145/S145947|Description is th...|   32.25994075660238| -110.92754232690946|    5/min/|\n",
      "|         Gold Canyon|   AZ|2019-04-10T17:00:00|   circle|    10 minutes|Occurred : 4/10/2...|145/S145766|Apr. 10th we witn...|             33.3715| -111.43690000000001|   10/min/|\n",
      "|              Dallas|   TX|1973-07-14T22:00:00|     oval|     6 minutes|Occurred : 7/14/1...|145/S145751|\"Ufos report in I...| at on point they...| which ment they ...|    6/min/|\n",
      "|Caloocan City (Ph...| null|2019-06-06T19:00:00|    other|19:00 to 19:30|Occurred : 6/6/20...|146/S146694|group of lights f...|                null|                null|1900to1930|\n",
      "|          Brookville|   IN|2019-06-18T21:00:00|   sphere|        1 hour|Occurred : 6/18/2...|146/S146900|Metal orb of wire...|             39.4047|  -84.97360000000002|     1/hr/|\n",
      "|     Melbourne Beach|   FL|2019-06-12T22:00:00|  unknown|          Hour|Occurred : 6/12/2...|146/S146805|We think 2 UFOs.....|  27.966799999999992|            -80.5096|      Hour|\n",
      "|           Carrizozo|   NM|2019-06-11T22:00:00| changing|   Few minutes|Occurred : 6/11/2...|146/S146759|I was driving and...|             33.7849|           -105.8332|  Few/min/|\n",
      "|                Waco|   TX|2018-06-15T01:00:00|   circle|      2 minute|Occurred : 6/15/2...|146/S146740|I was in pool and...|  31.573597507788193|  -97.13584859813108|    2/min/|\n",
      "|         Centerville|   IA|1999-08-15T02:30:00|   circle|        1 hour|Occurred : 8/15/1...|146/S146702|Bright Circle of ...|             40.7074|  -92.92129999999999|     1/hr/|\n",
      "|          Gray Court|   SC|1975-07-17T00:00:00|    light|     5 minutes|Occurred : 7/17/1...|147/S147117|Strange bright li...|             34.5788|            -82.1141|    5/min/|\n",
      "|           Yuba City|   CA|2019-08-17T00:00:00|formation|    20 minutes|Occurred : 8/17/2...|148/S148345|There were 4 ligh...|   39.05981141552499| -121.66825616438334|   20/min/|\n",
      "|             Abilene|   TX|2019-08-14T01:00:00|    light|    30 seconds|Occurred : 8/14/2...|148/S148373|star-like light t...|  32.394351384615476|   -99.7900440000002|   30/sec/|\n",
      "|              Leyner|   CO|2019-08-09T20:22:00|    light|    20 minutes|Occurred : 8/9/20...|148/S148205|There where 4 bri...|                null|                null|   20/min/|\n",
      "|            Catalina|   AZ|2019-08-09T20:30:00|    cigar|    40 seconds|Occurred : 8/9/20...|148/S148290|My wife and I wer...|                null|                null|   40/sec/|\n",
      "+--------------------+-----+-------------------+---------+--------------+--------------------+-----------+--------------------+--------------------+--------------------+----------+\n",
      "only showing top 20 rows\n",
      "\n"
     ]
    }
   ],
   "source": [
    "# Note, not using dictionary as the needs to applied in a specific order\n",
    "# Idea is to normalise the data into a reasonable format then evaluate the resulting \n",
    "# expression to create a seconds based duration value.\n",
    "\n",
    "#First step is to normalise seonds, hours\n",
    "dictionary_list = (\n",
    "    'second:sec',\n",
    "    'secs:sec',\n",
    "    'asec:1sec',\n",
    "    'sec:/zec/',\n",
    "    's:',\n",
    "    'ahr:1hr',\n",
    "    'hour:hr',\n",
    "    'ahr:1hr',\n",
    "    'minute:min',\n",
    "    'amin:1min',\n",
    "    'hr:/hr/',\n",
    "    'min:/min/',\n",
    "    'zec:sec',\n",
    "    'one:1',\n",
    "    'two:2',\n",
    "    'three:3',\n",
    "    'four:4',\n",
    "    'five:5',\n",
    "    'six:6',\n",
    "    'seven:7',\n",
    "    'eight:8',\n",
    "    'nine:9',\n",
    "    'couple:2',\n",
    "    'few:3',\n",
    "    'several:4',\n",
    "    'approx:1'\n",
    ")\n",
    "\n",
    "def duration_clean(a):\n",
    "    \n",
    "    # Use try/catch exception to handle non-conforming data, setting it to blank\n",
    "    try:\n",
    "        # Some initial cleaning & normalisation\n",
    "        a = a.replace(\" \",\"\")\n",
    "        a = a.replace(\"-\",\"_\")\n",
    "        # = a.lower()\n",
    "        a = re.sub(\"[.]\",\"__\",a)\n",
    "        a = re.sub(\"\\W\",\"\",a )\n",
    "        # \\W - matches any non-word character (equal to [^a-zA-Z0-9_])\n",
    "        a = a.replace(\"__\",\".\")\n",
    "\n",
    "        # Substitions\n",
    "        for i in dictionary_list:\n",
    "            r = i.split(\":\")\n",
    "            a = a.replace(r[0], r[1])\n",
    "\n",
    "        # remove x-y approximations in favour of y\n",
    "        a = re.sub(\"\\d+_\",\"\",a )\n",
    "    \n",
    "    except:\n",
    "        a = ''\n",
    "\n",
    "    return a\n",
    "\n",
    "\n",
    "# register user defined function\n",
    "duration_clean_udf = udf(duration_clean)\n",
    "\n",
    "# spark.table('uin_table').select(F.lower('duration').alias('duration')).show()\n",
    "uin = uin.withColumn(\"dur2\", duration_clean_udf(uin.duration)) \n",
    "\n",
    "#example\n",
    "#uin.show()\n",
    "#uin.printSchema()\n",
    "\n",
    "uin.show()\n"
   ]
  },
  {
   "cell_type": "code",
   "execution_count": 17,
   "metadata": {},
   "outputs": [
    {
     "name": "stdout",
     "output_type": "stream",
     "text": [
      "+--------------------+-----+-------------------+---------+--------------+--------------------+-----------+--------------------+--------------------+--------------------+----------+-------------+\n",
      "|                city|state|          date_time|    shape|      duration|               stats|report_link|                text|       city_latitude|      city_longitude|      dur2|calc_duration|\n",
      "+--------------------+-----+-------------------+---------+--------------+--------------------+-----------+--------------------+--------------------+--------------------+----------+-------------+\n",
      "|             Chester|   VA|2019-12-12T18:43:00|    light|     5 seconds|Occurred : 12/12/...|151/S151739|My wife was drivi...|  37.343151515151526|    -77.408581818182|    5/sec/|            5|\n",
      "|          Rocky Hill|   CT|2019-03-22T18:30:00|   circle|   3-5 seconds|Occurred : 3/22/2...|145/S145297|I think that I ma...|   41.66480000000001|   -72.6392999999999|    5/sec/|            5|\n",
      "|                null| null|               null|     null|          null|Occurred : 4/1/20...|145/S145556|I woke up late in...|                null|                null|          |            0|\n",
      "|              Ottawa|   ON|2019-04-17T02:00:00| teardrop|    10 seconds|Occurred : 4/17/2...|145/S145697|I was driving tow...|  45.381382500000214|  -75.70850071428617|   10/sec/|           10|\n",
      "|              Peoria|   NY|2009-03-15T18:00:00|    cigar|     2 minutes|Occurred : 3/15/2...|145/S145723|In Peoria, Arizon...|                null|                null|    2/min/|          120|\n",
      "|          Kirbyville|   TX|2019-04-02T20:25:00|     disk|    15 minutes|Occurred : 4/2/20...|145/S145476|The object has fl...|             30.6772|            -94.0052|   15/min/|          900|\n",
      "|              Tucson|   AZ|2019-05-01T11:00:00|  unknown|     5 minutes|Occurred : 5/1/20...|145/S145947|Description is th...|   32.25994075660238| -110.92754232690946|    5/min/|          300|\n",
      "|         Gold Canyon|   AZ|2019-04-10T17:00:00|   circle|    10 minutes|Occurred : 4/10/2...|145/S145766|Apr. 10th we witn...|             33.3715| -111.43690000000001|   10/min/|          600|\n",
      "|              Dallas|   TX|1973-07-14T22:00:00|     oval|     6 minutes|Occurred : 7/14/1...|145/S145751|\"Ufos report in I...| at on point they...| which ment they ...|    6/min/|          360|\n",
      "|Caloocan City (Ph...| null|2019-06-06T19:00:00|    other|19:00 to 19:30|Occurred : 6/6/20...|146/S146694|group of lights f...|                null|                null|1900to1930|            0|\n",
      "|          Brookville|   IN|2019-06-18T21:00:00|   sphere|        1 hour|Occurred : 6/18/2...|146/S146900|Metal orb of wire...|             39.4047|  -84.97360000000002|     1/hr/|         3600|\n",
      "|     Melbourne Beach|   FL|2019-06-12T22:00:00|  unknown|          Hour|Occurred : 6/12/2...|146/S146805|We think 2 UFOs.....|  27.966799999999992|            -80.5096|      Hour|            0|\n",
      "|           Carrizozo|   NM|2019-06-11T22:00:00| changing|   Few minutes|Occurred : 6/11/2...|146/S146759|I was driving and...|             33.7849|           -105.8332|  Few/min/|            0|\n",
      "|                Waco|   TX|2018-06-15T01:00:00|   circle|      2 minute|Occurred : 6/15/2...|146/S146740|I was in pool and...|  31.573597507788193|  -97.13584859813108|    2/min/|          120|\n",
      "|         Centerville|   IA|1999-08-15T02:30:00|   circle|        1 hour|Occurred : 8/15/1...|146/S146702|Bright Circle of ...|             40.7074|  -92.92129999999999|     1/hr/|         3600|\n",
      "|          Gray Court|   SC|1975-07-17T00:00:00|    light|     5 minutes|Occurred : 7/17/1...|147/S147117|Strange bright li...|             34.5788|            -82.1141|    5/min/|          300|\n",
      "|           Yuba City|   CA|2019-08-17T00:00:00|formation|    20 minutes|Occurred : 8/17/2...|148/S148345|There were 4 ligh...|   39.05981141552499| -121.66825616438334|   20/min/|         1200|\n",
      "|             Abilene|   TX|2019-08-14T01:00:00|    light|    30 seconds|Occurred : 8/14/2...|148/S148373|star-like light t...|  32.394351384615476|   -99.7900440000002|   30/sec/|           30|\n",
      "|              Leyner|   CO|2019-08-09T20:22:00|    light|    20 minutes|Occurred : 8/9/20...|148/S148205|There where 4 bri...|                null|                null|   20/min/|         1200|\n",
      "|            Catalina|   AZ|2019-08-09T20:30:00|    cigar|    40 seconds|Occurred : 8/9/20...|148/S148290|My wife and I wer...|                null|                null|   40/sec/|           40|\n",
      "+--------------------+-----+-------------------+---------+--------------+--------------------+-----------+--------------------+--------------------+--------------------+----------+-------------+\n",
      "only showing top 20 rows\n",
      "\n"
     ]
    }
   ],
   "source": [
    "# Set up the evalualtion by creating a calculation\n",
    "\n",
    "def calc_duration(a): \n",
    "    try: \n",
    "        b = a.replace('/min/',' * 1 * 60 +')\n",
    "        b = b.replace('/sec/',' * 1 +')\n",
    "        b = b.replace('/hr/',' * 1 * 3600 +')\n",
    "        b = b.strip('+')\n",
    "        b = eval(b)\n",
    "    except:\n",
    "        b = eval(\"0\")\n",
    "    \n",
    "    return b  \n",
    "\n",
    "calc_duration_udf = udf(calc_duration)\n",
    "\n",
    "# duration = uin.select(\"dur2\")\n",
    "uin = uin.withColumn(\"calc_duration\", calc_duration_udf(\"dur2\")) \n",
    "\n",
    "uin.show()\n"
   ]
  },
  {
   "cell_type": "markdown",
   "metadata": {},
   "source": [
    "Run a brief sanity check on the duration.  \n",
    "\n",
    "This by removing all numeric characters and grouping the outcome. There may be several cycles of this to identify problems. Done in this way in order to view any error durations that may have been missed by the process above.  \n",
    "\n",
    "If that is the case, the string should be feed back into the dictionary/list above for rationalisation.  \n",
    "\n"
   ]
  },
  {
   "cell_type": "code",
   "execution_count": 18,
   "metadata": {},
   "outputs": [
    {
     "name": "stdout",
     "output_type": "stream",
     "text": [
      "+-------------+-----+\n",
      "|calc_duration|count|\n",
      "+-------------+-----+\n",
      "|             |87233|\n",
      "|            .|  894|\n",
      "+-------------+-----+\n",
      "\n"
     ]
    }
   ],
   "source": [
    "# This is a manual process until the calc_duration field is empty.\n",
    "\n",
    "temp = uin.select(\"calc_duration\")\n",
    "\n",
    "temp = temp.withColumn('calc_duration', regexp_replace('calc_duration', '\\d', ''))\n",
    "#temp = temp.withColumn('dur2', regexp_replace('dur2', r'(\\d+)', ''))\n",
    "\n",
    "temp = temp.filter(temp.calc_duration.isNotNull())\n",
    "\n",
    "temp.groupBy('calc_duration').count().sort('count', ascending=False).show()\n"
   ]
  },
  {
   "cell_type": "code",
   "execution_count": 19,
   "metadata": {},
   "outputs": [
    {
     "data": {
      "text/plain": [
       "Row(city='Chester', state='VA', date_time='2019-12-12T18:43:00', shape='light', duration='5 seconds', stats='Occurred : 12/12/2019 18:43  (Entered as : 12/12/19 18:43) Reported: 12/19/2019 7:19:31 PM 19:19 Posted: 12/22/2019 Location: Chester, VA Shape: Light Duration:5 seconds', report_link='151/S151739', text='My wife was driving southeast on a fairly populated main side road, it was dark out side at about 6:43pm, And my wife exclaimed” falling star baby look quick!” When I looked up I saw not a falling star but a bright ball of light , one that was closer than any shooting star I have ever seen, it had a blue glow  changing into green colors of light as it fell from the sky. It fell as if falling from an invisible opening in the sky... the night was a crystal clear night sky  so no clouds or precipitation to obstruct our view and the object was closer than any I have ever witnessed before. The way the object fell was too slow to be a meteor or falling star, also noting that there was no “light trail” following behind the object as it fell. We watched it fall for about 5 seconds before it disappeared into the dark night sky somewhere close to the earth surface.  It was the strangest light; object; ufo... I have encountered and felt a duty to report it.', city_latitude='37.343151515151526', city_longitude='-77.408581818182', dur2='5/sec/', calc_duration='5')"
      ]
     },
     "execution_count": 19,
     "metadata": {},
     "output_type": "execute_result"
    }
   ],
   "source": [
    "# A similar process required for co-ordinate data lat/long, except want to simply remove non-numeric data\n",
    "\n",
    "uin = uin.withColumn('city_latitude', regexp_replace('city_latitude', \"[^0-9.]\", ''))\n",
    "uin = uin.withColumn('city_longitude', regexp_replace('city_longitude', \"[^0-9.-]\", ''))\n",
    "\n",
    "# \n",
    "uin.head()"
   ]
  },
  {
   "cell_type": "code",
   "execution_count": 20,
   "metadata": {},
   "outputs": [
    {
     "name": "stdout",
     "output_type": "stream",
     "text": [
      "+-------+--------------------+--------------------+--------------------+--------------------+--------------------+--------------------+--------------------+--------------------+--------------------+--------------------+-----------------+\n",
      "|summary|                city|               state|           date_time|               shape|            duration|               stats|         report_link|                text|       city_latitude|      city_longitude|    calc_duration|\n",
      "+-------+--------------------+--------------------+--------------------+--------------------+--------------------+--------------------+--------------------+--------------------+--------------------+--------------------+-----------------+\n",
      "|  count|               87890|               82913|               86931|               85625|               84964|               88077|               88121|               88069|               73575|               73366|            88127|\n",
      "|   mean|                null|                null|                null|                null|  29.485334417096183|  483.69707446236566|                null|                null|1.370122086713718E42|9.495516674473372E38|8547.412638618589|\n",
      "| stddev|                null|                null|                null|                null|  167.16098411075828|  1023.0474114484118|                null|                null|3.210854591601193E44|2.444297974575115E41|1745774.476167257|\n",
      "|    min| \"\"What?\"\"  She t...| & changing angel...| (slightly); NEAR...| CA Shape: Other ...| 20 minutes (ongo...| ( unrelated to U...|  Shape:  Duration:\"|\t\t  \tI was outsid...|                    |                    |                0|\n",
      "|    max|Çanakkale/Çan (Tu...|              to low|             to slow|             unknown|         ±10 minutes|         ~90 seconds|          ~5 seconds|•\tWhite rectangul...|                 999|               99.9.|           9900.0|\n",
      "+-------+--------------------+--------------------+--------------------+--------------------+--------------------+--------------------+--------------------+--------------------+--------------------+--------------------+-----------------+\n",
      "\n",
      "+--------------------+-----+\n",
      "|               shape|count|\n",
      "+--------------------+-----+\n",
      "|               light|18152|\n",
      "|              circle|10088|\n",
      "|            triangle| 7874|\n",
      "|            fireball| 7059|\n",
      "|             unknown| 6143|\n",
      "|              sphere| 6047|\n",
      "|               other| 5707|\n",
      "|                disk| 4507|\n",
      "|                oval| 3849|\n",
      "|           formation| 2822|\n",
      "|                null| 2502|\n",
      "|            changing| 2101|\n",
      "|               cigar| 1987|\n",
      "|               flash| 1669|\n",
      "|           rectangle| 1592|\n",
      "|            cylinder| 1367|\n",
      "|             diamond| 1270|\n",
      "|             chevron|  944|\n",
      "|            teardrop|  764|\n",
      "|                 egg|  662|\n",
      "|                cone|  348|\n",
      "|               cross|  286|\n",
      "|               --T::|  274|\n",
      "|                  CA|    8|\n",
      "|http://www.nuforc...|    6|\n",
      "|                  NY|    6|\n",
      "|                  VA|    4|\n",
      "|                  OH|    4|\n",
      "|                  CO|    4|\n",
      "|                  WA|    3|\n",
      "+--------------------+-----+\n",
      "only showing top 30 rows\n",
      "\n"
     ]
    }
   ],
   "source": [
    "# Get rid of dur2, as no longer required\n",
    "uin = uin.drop(\"dur2\")\n",
    "\n",
    "uin.describe().show()\n",
    "\n",
    "uin.count()\n",
    "\n",
    "uin = uin.withColumnRenamed('shape', 'shape'.lower())\n",
    "uin = uin.withColumn('shape', regexp_replace('shape', r'(\\d+)', ''))\n",
    "\n",
    "uin.groupBy('shape').count().sort('count', ascending=False).show(30)"
   ]
  },
  {
   "cell_type": "code",
   "execution_count": 21,
   "metadata": {},
   "outputs": [
    {
     "data": {
      "text/plain": [
       "88127"
      ]
     },
     "execution_count": 21,
     "metadata": {},
     "output_type": "execute_result"
    }
   ],
   "source": [
    "# Retain only the first word\n",
    "uin = uin.withColumn(\n",
    "    'word_shape', \n",
    "    expr(r\"regexp_extract(shape, '\\\\w+', 0)\")\n",
    ")\n",
    "\n",
    "uin.count()\n"
   ]
  },
  {
   "cell_type": "code",
   "execution_count": 22,
   "metadata": {},
   "outputs": [
    {
     "data": {
      "text/plain": [
       "85238"
      ]
     },
     "execution_count": 22,
     "metadata": {},
     "output_type": "execute_result"
    }
   ],
   "source": [
    "\n",
    "shape_array = ['light','circle','triangle','fireball','unknown','sphere','other','disk','oval','formation','0','changing','cigar','flash','rectangle','cylinder','diamond','chevron','teardrop','egg','cone','cross']\n",
    "\n",
    "uin = uin.filter(uin.word_shape.isin(*shape_array) == True)\n",
    "\n",
    "uin = uin.drop(\"shape\")\n",
    "uin = uin.withColumnRenamed(\"word_shape\", \"shape\")\n",
    "\n",
    "uin.count()\n"
   ]
  },
  {
   "cell_type": "code",
   "execution_count": 23,
   "metadata": {},
   "outputs": [
    {
     "name": "stdout",
     "output_type": "stream",
     "text": [
      "+--------------------+-----+-------------------+--------------+--------------------+-----------+--------------------+------------------+-------------------+-------------+---------+\n",
      "|                city|state|          date_time|      duration|               stats|report_link|                text|     city_latitude|     city_longitude|calc_duration|    shape|\n",
      "+--------------------+-----+-------------------+--------------+--------------------+-----------+--------------------+------------------+-------------------+-------------+---------+\n",
      "|             Chester|   VA|2019-12-12T18:43:00|     5 seconds|Occurred : 12/12/...|151/S151739|My wife was drivi...|37.343151515151526|   -77.408581818182|            5|    light|\n",
      "|          Rocky Hill|   CT|2019-03-22T18:30:00|   3-5 seconds|Occurred : 3/22/2...|145/S145297|I think that I ma...| 41.66480000000001|  -72.6392999999999|            5|   circle|\n",
      "|              Ottawa|   ON|2019-04-17T02:00:00|    10 seconds|Occurred : 4/17/2...|145/S145697|I was driving tow...|45.381382500000214| -75.70850071428617|           10| teardrop|\n",
      "|              Peoria|   NY|2009-03-15T18:00:00|     2 minutes|Occurred : 3/15/2...|145/S145723|In Peoria, Arizon...|              null|               null|          120|    cigar|\n",
      "|          Kirbyville|   TX|2019-04-02T20:25:00|    15 minutes|Occurred : 4/2/20...|145/S145476|The object has fl...|           30.6772|           -94.0052|          900|     disk|\n",
      "|              Tucson|   AZ|2019-05-01T11:00:00|     5 minutes|Occurred : 5/1/20...|145/S145947|Description is th...| 32.25994075660238|-110.92754232690946|          300|  unknown|\n",
      "|         Gold Canyon|   AZ|2019-04-10T17:00:00|    10 minutes|Occurred : 4/10/2...|145/S145766|Apr. 10th we witn...|           33.3715|-111.43690000000001|          600|   circle|\n",
      "|              Dallas|   TX|1973-07-14T22:00:00|     6 minutes|Occurred : 7/14/1...|145/S145751|\"Ufos report in I...|              .3.8|                   |          360|     oval|\n",
      "|Caloocan City (Ph...| null|2019-06-06T19:00:00|19:00 to 19:30|Occurred : 6/6/20...|146/S146694|group of lights f...|              null|               null|            0|    other|\n",
      "|          Brookville|   IN|2019-06-18T21:00:00|        1 hour|Occurred : 6/18/2...|146/S146900|Metal orb of wire...|           39.4047| -84.97360000000002|         3600|   sphere|\n",
      "|     Melbourne Beach|   FL|2019-06-12T22:00:00|          Hour|Occurred : 6/12/2...|146/S146805|We think 2 UFOs.....|27.966799999999992|           -80.5096|            0|  unknown|\n",
      "|           Carrizozo|   NM|2019-06-11T22:00:00|   Few minutes|Occurred : 6/11/2...|146/S146759|I was driving and...|           33.7849|          -105.8332|            0| changing|\n",
      "|                Waco|   TX|2018-06-15T01:00:00|      2 minute|Occurred : 6/15/2...|146/S146740|I was in pool and...|31.573597507788193| -97.13584859813108|          120|   circle|\n",
      "|         Centerville|   IA|1999-08-15T02:30:00|        1 hour|Occurred : 8/15/1...|146/S146702|Bright Circle of ...|           40.7074| -92.92129999999999|         3600|   circle|\n",
      "|          Gray Court|   SC|1975-07-17T00:00:00|     5 minutes|Occurred : 7/17/1...|147/S147117|Strange bright li...|           34.5788|           -82.1141|          300|    light|\n",
      "|           Yuba City|   CA|2019-08-17T00:00:00|    20 minutes|Occurred : 8/17/2...|148/S148345|There were 4 ligh...| 39.05981141552499|-121.66825616438334|         1200|formation|\n",
      "|             Abilene|   TX|2019-08-14T01:00:00|    30 seconds|Occurred : 8/14/2...|148/S148373|star-like light t...|32.394351384615476|  -99.7900440000002|           30|    light|\n",
      "|              Leyner|   CO|2019-08-09T20:22:00|    20 minutes|Occurred : 8/9/20...|148/S148205|There where 4 bri...|              null|               null|         1200|    light|\n",
      "|            Catalina|   AZ|2019-08-09T20:30:00|    40 seconds|Occurred : 8/9/20...|148/S148290|My wife and I wer...|              null|               null|           40|    cigar|\n",
      "|       Santa Barbara|   CA|2019-08-06T20:45:00|     5 minutes|Occurred : 8/6/20...|148/S148122|Abnormal flashing...| 34.31703810344835|-119.72054137931025|          300|    flash|\n",
      "+--------------------+-----+-------------------+--------------+--------------------+-----------+--------------------+------------------+-------------------+-------------+---------+\n",
      "only showing top 20 rows\n",
      "\n"
     ]
    }
   ],
   "source": [
    "# Deal with shape in similar fashion\n",
    "\n",
    "\n",
    "\n",
    "#uin = uin.drop(\"shape\")\n",
    "uin.show()"
   ]
  },
  {
   "cell_type": "markdown",
   "metadata": {},
   "source": [
    "Change ordering of columns  \n",
    "\n",
    "Its not always possible to easily manage very inconsistent data like the text in this dataset. Want to gather the more consistently formed and formatted columns to the front, leaving the text column to the final column.  \n",
    "\n",
    "The benefit is in later processing - if the text data is problematic for any reason, it might be possible to split it up from non-problem data for seperate treatment of different analysis types.\n",
    "\n"
   ]
  },
  {
   "cell_type": "code",
   "execution_count": 24,
   "metadata": {},
   "outputs": [
    {
     "name": "stdout",
     "output_type": "stream",
     "text": [
      "+--------------------+-----+-------------------+---------+--------------+-------------+-----------+------------------+-------------------+--------------------+--------------------+\n",
      "|                city|state|          date_time|    shape|      duration|calc_duration|report_link|     city_latitude|     city_longitude|               stats|                text|\n",
      "+--------------------+-----+-------------------+---------+--------------+-------------+-----------+------------------+-------------------+--------------------+--------------------+\n",
      "|             Chester|   VA|2019-12-12T18:43:00|    light|     5 seconds|            5|151/S151739|37.343151515151526|   -77.408581818182|Occurred : 12/12/...|My wife was drivi...|\n",
      "|          Rocky Hill|   CT|2019-03-22T18:30:00|   circle|   3-5 seconds|            5|145/S145297| 41.66480000000001|  -72.6392999999999|Occurred : 3/22/2...|I think that I ma...|\n",
      "|              Ottawa|   ON|2019-04-17T02:00:00| teardrop|    10 seconds|           10|145/S145697|45.381382500000214| -75.70850071428617|Occurred : 4/17/2...|I was driving tow...|\n",
      "|              Peoria|   NY|2009-03-15T18:00:00|    cigar|     2 minutes|          120|145/S145723|              null|               null|Occurred : 3/15/2...|In Peoria, Arizon...|\n",
      "|          Kirbyville|   TX|2019-04-02T20:25:00|     disk|    15 minutes|          900|145/S145476|           30.6772|           -94.0052|Occurred : 4/2/20...|The object has fl...|\n",
      "|              Tucson|   AZ|2019-05-01T11:00:00|  unknown|     5 minutes|          300|145/S145947| 32.25994075660238|-110.92754232690946|Occurred : 5/1/20...|Description is th...|\n",
      "|         Gold Canyon|   AZ|2019-04-10T17:00:00|   circle|    10 minutes|          600|145/S145766|           33.3715|-111.43690000000001|Occurred : 4/10/2...|Apr. 10th we witn...|\n",
      "|              Dallas|   TX|1973-07-14T22:00:00|     oval|     6 minutes|          360|145/S145751|              .3.8|                   |Occurred : 7/14/1...|\"Ufos report in I...|\n",
      "|Caloocan City (Ph...| null|2019-06-06T19:00:00|    other|19:00 to 19:30|            0|146/S146694|              null|               null|Occurred : 6/6/20...|group of lights f...|\n",
      "|          Brookville|   IN|2019-06-18T21:00:00|   sphere|        1 hour|         3600|146/S146900|           39.4047| -84.97360000000002|Occurred : 6/18/2...|Metal orb of wire...|\n",
      "|     Melbourne Beach|   FL|2019-06-12T22:00:00|  unknown|          Hour|            0|146/S146805|27.966799999999992|           -80.5096|Occurred : 6/12/2...|We think 2 UFOs.....|\n",
      "|           Carrizozo|   NM|2019-06-11T22:00:00| changing|   Few minutes|            0|146/S146759|           33.7849|          -105.8332|Occurred : 6/11/2...|I was driving and...|\n",
      "|                Waco|   TX|2018-06-15T01:00:00|   circle|      2 minute|          120|146/S146740|31.573597507788193| -97.13584859813108|Occurred : 6/15/2...|I was in pool and...|\n",
      "|         Centerville|   IA|1999-08-15T02:30:00|   circle|        1 hour|         3600|146/S146702|           40.7074| -92.92129999999999|Occurred : 8/15/1...|Bright Circle of ...|\n",
      "|          Gray Court|   SC|1975-07-17T00:00:00|    light|     5 minutes|          300|147/S147117|           34.5788|           -82.1141|Occurred : 7/17/1...|Strange bright li...|\n",
      "|           Yuba City|   CA|2019-08-17T00:00:00|formation|    20 minutes|         1200|148/S148345| 39.05981141552499|-121.66825616438334|Occurred : 8/17/2...|There were 4 ligh...|\n",
      "|             Abilene|   TX|2019-08-14T01:00:00|    light|    30 seconds|           30|148/S148373|32.394351384615476|  -99.7900440000002|Occurred : 8/14/2...|star-like light t...|\n",
      "|              Leyner|   CO|2019-08-09T20:22:00|    light|    20 minutes|         1200|148/S148205|              null|               null|Occurred : 8/9/20...|There where 4 bri...|\n",
      "|            Catalina|   AZ|2019-08-09T20:30:00|    cigar|    40 seconds|           40|148/S148290|              null|               null|Occurred : 8/9/20...|My wife and I wer...|\n",
      "|       Santa Barbara|   CA|2019-08-06T20:45:00|    flash|     5 minutes|          300|148/S148122| 34.31703810344835|-119.72054137931025|Occurred : 8/6/20...|Abnormal flashing...|\n",
      "+--------------------+-----+-------------------+---------+--------------+-------------+-----------+------------------+-------------------+--------------------+--------------------+\n",
      "only showing top 20 rows\n",
      "\n"
     ]
    }
   ],
   "source": [
    "\n",
    "uin = uin.select([\"city\", \"state\", \"date_time\", \"shape\" , \"duration\", \"calc_duration\", \"report_link\", \"city_latitude\", \"city_longitude\", \"stats\", \"text\"])\n",
    "\n",
    "# Display data snippet\n",
    "uin.show()\n",
    "\n",
    "# Write the data out to staging \n",
    "outfile = '/datain/ufo_stg_files' \n",
    "\n",
    "uin.write.format('csv').mode('overwrite').option(\"header\", \"true\").save(outfile)\n",
    "\n"
   ]
  },
  {
   "cell_type": "markdown",
   "metadata": {},
   "source": [
    "The data has been cleaned up somewhat.  \n",
    "\n",
    "Some columns have been removed as they were superfluous.\n",
    "\n",
    "A newly created duration field has been calcuated based on a user defined function that could be reused and/or modifed to deal with new situations depending on the data.  \n",
    "\n",
    "Data structure has been modified in consideration of future processing.  \n",
    "\n",
    "The data has been restored as a staging file.  \n",
    "\n"
   ]
  }
 ],
 "metadata": {
  "kernelspec": {
   "display_name": "Python 3",
   "language": "python",
   "name": "python3"
  },
  "language_info": {
   "codemirror_mode": {
    "name": "ipython",
    "version": 3
   },
   "file_extension": ".py",
   "mimetype": "text/x-python",
   "name": "python",
   "nbconvert_exporter": "python",
   "pygments_lexer": "ipython3",
   "version": "3.6.9"
  }
 },
 "nbformat": 4,
 "nbformat_minor": 2
}
